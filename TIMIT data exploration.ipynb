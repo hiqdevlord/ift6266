{
 "metadata": {
  "name": ""
 },
 "nbformat": 3,
 "nbformat_minor": 0,
 "worksheets": [
  {
   "cells": [
    {
     "cell_type": "code",
     "collapsed": false,
     "input": [
      "import glob\n",
      "import pandas as pd\n",
      "from pandas import DataFrame\n",
      "import numpy as np"
     ],
     "language": "python",
     "metadata": {},
     "outputs": [],
     "prompt_number": 1
    },
    {
     "cell_type": "code",
     "collapsed": false,
     "input": [
      "wav_files_list = glob.glob('raw/TIMIT/TRAIN/*/*/*.WAV')\n",
      "phn_files_list = glob.glob('raw/TIMIT/TRAIN/*/*/*.PHN')\n",
      "txt_files_list = glob.glob('raw/TIMIT/TRAIN/*/*/*.TXT')\n",
      "wrd_files_list = glob.glob('raw/TIMIT/TRAIN/*/*/*.WRD')"
     ],
     "language": "python",
     "metadata": {},
     "outputs": [],
     "prompt_number": 7
    },
    {
     "cell_type": "code",
     "collapsed": false,
     "input": [
      "fp = open(phn_files_list[0])\n",
      "# phn_files = np.load(phn_files_list[0])"
     ],
     "language": "python",
     "metadata": {},
     "outputs": [],
     "prompt_number": 15
    },
    {
     "cell_type": "code",
     "collapsed": false,
     "input": [
      "phn_df = pd.read_csv(phn_files[0], sep=' ', header=None)\n",
      "phn_df.columns = ['start','end','phoneme']"
     ],
     "language": "python",
     "metadata": {},
     "outputs": [],
     "prompt_number": 23
    },
    {
     "cell_type": "code",
     "collapsed": false,
     "input": [
      "txt_df = pd.read_csv(txt_files[0], sep=' ', header=None)"
     ],
     "language": "python",
     "metadata": {},
     "outputs": [],
     "prompt_number": 27
    },
    {
     "cell_type": "code",
     "collapsed": false,
     "input": [
      "txt_df"
     ],
     "language": "python",
     "metadata": {},
     "outputs": [
      {
       "html": [
        "<div style=\"max-height:1000px;max-width:1500px;overflow:auto;\">\n",
        "<table border=\"1\" class=\"dataframe\">\n",
        "  <thead>\n",
        "    <tr style=\"text-align: right;\">\n",
        "      <th></th>\n",
        "      <th>0</th>\n",
        "      <th>1</th>\n",
        "      <th>2</th>\n",
        "      <th>3</th>\n",
        "      <th>4</th>\n",
        "      <th>5</th>\n",
        "      <th>6</th>\n",
        "      <th>7</th>\n",
        "      <th>8</th>\n",
        "      <th>9</th>\n",
        "      <th>10</th>\n",
        "      <th>11</th>\n",
        "      <th>12</th>\n",
        "    </tr>\n",
        "  </thead>\n",
        "  <tbody>\n",
        "    <tr>\n",
        "      <th>0</th>\n",
        "      <td> 0</td>\n",
        "      <td> 46797</td>\n",
        "      <td> She</td>\n",
        "      <td> had</td>\n",
        "      <td> your</td>\n",
        "      <td> dark</td>\n",
        "      <td> suit</td>\n",
        "      <td> in</td>\n",
        "      <td> greasy</td>\n",
        "      <td> wash</td>\n",
        "      <td> water</td>\n",
        "      <td> all</td>\n",
        "      <td> year.</td>\n",
        "    </tr>\n",
        "  </tbody>\n",
        "</table>\n",
        "</div>"
       ],
       "metadata": {},
       "output_type": "pyout",
       "prompt_number": 28,
       "text": [
        "   0      1    2    3     4     5     6   7       8     9      10   11     12\n",
        "0   0  46797  She  had  your  dark  suit  in  greasy  wash  water  all  year."
       ]
      }
     ],
     "prompt_number": 28
    },
    {
     "cell_type": "code",
     "collapsed": false,
     "input": [
      "wrd_df = pd.read_csv(wrd_files[0], sep=' ', header=None)"
     ],
     "language": "python",
     "metadata": {},
     "outputs": [],
     "prompt_number": 29
    },
    {
     "cell_type": "code",
     "collapsed": false,
     "input": [
      "wrd_df"
     ],
     "language": "python",
     "metadata": {},
     "outputs": [
      {
       "html": [
        "<div style=\"max-height:1000px;max-width:1500px;overflow:auto;\">\n",
        "<table border=\"1\" class=\"dataframe\">\n",
        "  <thead>\n",
        "    <tr style=\"text-align: right;\">\n",
        "      <th></th>\n",
        "      <th>0</th>\n",
        "      <th>1</th>\n",
        "      <th>2</th>\n",
        "    </tr>\n",
        "  </thead>\n",
        "  <tbody>\n",
        "    <tr>\n",
        "      <th>0 </th>\n",
        "      <td>  3050</td>\n",
        "      <td>  5723</td>\n",
        "      <td>    she</td>\n",
        "    </tr>\n",
        "    <tr>\n",
        "      <th>1 </th>\n",
        "      <td>  5723</td>\n",
        "      <td> 10337</td>\n",
        "      <td>    had</td>\n",
        "    </tr>\n",
        "    <tr>\n",
        "      <th>2 </th>\n",
        "      <td>  9190</td>\n",
        "      <td> 11517</td>\n",
        "      <td>   your</td>\n",
        "    </tr>\n",
        "    <tr>\n",
        "      <th>3 </th>\n",
        "      <td> 11517</td>\n",
        "      <td> 16334</td>\n",
        "      <td>   dark</td>\n",
        "    </tr>\n",
        "    <tr>\n",
        "      <th>4 </th>\n",
        "      <td> 16334</td>\n",
        "      <td> 21199</td>\n",
        "      <td>   suit</td>\n",
        "    </tr>\n",
        "    <tr>\n",
        "      <th>5 </th>\n",
        "      <td> 21199</td>\n",
        "      <td> 22560</td>\n",
        "      <td>     in</td>\n",
        "    </tr>\n",
        "    <tr>\n",
        "      <th>6 </th>\n",
        "      <td> 22560</td>\n",
        "      <td> 28064</td>\n",
        "      <td> greasy</td>\n",
        "    </tr>\n",
        "    <tr>\n",
        "      <th>7 </th>\n",
        "      <td> 28064</td>\n",
        "      <td> 33360</td>\n",
        "      <td>   wash</td>\n",
        "    </tr>\n",
        "    <tr>\n",
        "      <th>8 </th>\n",
        "      <td> 33754</td>\n",
        "      <td> 37556</td>\n",
        "      <td>  water</td>\n",
        "    </tr>\n",
        "    <tr>\n",
        "      <th>9 </th>\n",
        "      <td> 37556</td>\n",
        "      <td> 40313</td>\n",
        "      <td>    all</td>\n",
        "    </tr>\n",
        "    <tr>\n",
        "      <th>10</th>\n",
        "      <td> 40313</td>\n",
        "      <td> 44586</td>\n",
        "      <td>   year</td>\n",
        "    </tr>\n",
        "  </tbody>\n",
        "</table>\n",
        "</div>"
       ],
       "metadata": {},
       "output_type": "pyout",
       "prompt_number": 30,
       "text": [
        "        0      1       2\n",
        "0    3050   5723     she\n",
        "1    5723  10337     had\n",
        "2    9190  11517    your\n",
        "3   11517  16334    dark\n",
        "4   16334  21199    suit\n",
        "5   21199  22560      in\n",
        "6   22560  28064  greasy\n",
        "7   28064  33360    wash\n",
        "8   33754  37556   water\n",
        "9   37556  40313     all\n",
        "10  40313  44586    year"
       ]
      }
     ],
     "prompt_number": 30
    },
    {
     "cell_type": "code",
     "collapsed": false,
     "input": [
      "f, s = \"She had your dark suit in greasy wash water all year. (sa1)\".split('(')"
     ],
     "language": "python",
     "metadata": {},
     "outputs": [],
     "prompt_number": 37
    },
    {
     "cell_type": "code",
     "collapsed": false,
     "input": [
      "f"
     ],
     "language": "python",
     "metadata": {},
     "outputs": [
      {
       "metadata": {},
       "output_type": "pyout",
       "prompt_number": 38,
       "text": [
        "'She had your dark suit in greasy wash water all year. '"
       ]
      }
     ],
     "prompt_number": 38
    },
    {
     "cell_type": "code",
     "collapsed": false,
     "input": [
      "s"
     ],
     "language": "python",
     "metadata": {},
     "outputs": [
      {
       "metadata": {},
       "output_type": "pyout",
       "prompt_number": 39,
       "text": [
        "'sa1)'"
       ]
      }
     ],
     "prompt_number": 39
    },
    {
     "cell_type": "code",
     "collapsed": false,
     "input": [
      "s = s.strip(') ')"
     ],
     "language": "python",
     "metadata": {},
     "outputs": [],
     "prompt_number": 51
    },
    {
     "cell_type": "code",
     "collapsed": false,
     "input": [
      "s"
     ],
     "language": "python",
     "metadata": {},
     "outputs": [
      {
       "metadata": {},
       "output_type": "pyout",
       "prompt_number": 52,
       "text": [
        "'sa1'"
       ]
      }
     ],
     "prompt_number": 52
    },
    {
     "cell_type": "code",
     "collapsed": false,
     "input": [
      "try:\n",
      "    fp = open('raw/TIMIT/DOC/PROMPTS.TXT')\n",
      "except Exception, e:\n",
      "    print \"\\033[1,31mCould not open the file\\033[0m\"\n",
      "    raise e\n",
      "\n",
      "prompts = []\n",
      "names = []\n",
      "for line in fp.readlines():\n",
      "    if line.startswith(';'):\n",
      "        continue\n",
      "    prompt, name = line.split(' (')\n",
      "    name = name.strip(')\\n')\n",
      "    prompts.append(prompt)\n",
      "    names.append(name)\n",
      "\n",
      "df = DataFrame(prompts, index=names, columns=['prompts'])"
     ],
     "language": "python",
     "metadata": {},
     "outputs": [],
     "prompt_number": 58
    },
    {
     "cell_type": "code",
     "collapsed": false,
     "input": [
      "df.shape"
     ],
     "language": "python",
     "metadata": {},
     "outputs": [
      {
       "metadata": {},
       "output_type": "pyout",
       "prompt_number": 60,
       "text": [
        "(2342, 1)"
       ]
      }
     ],
     "prompt_number": 60
    },
    {
     "cell_type": "code",
     "collapsed": false,
     "input": [
      "s.strip()"
     ],
     "language": "python",
     "metadata": {},
     "outputs": [
      {
       "metadata": {},
       "output_type": "pyout",
       "prompt_number": 55,
       "text": [
        "'sa1'"
       ]
      }
     ],
     "prompt_number": 55
    },
    {
     "cell_type": "code",
     "collapsed": false,
     "input": [
      "pwd"
     ],
     "language": "python",
     "metadata": {},
     "outputs": [
      {
       "metadata": {},
       "output_type": "pyout",
       "prompt_number": 61,
       "text": [
        "u'/Users/alexis/university/ift6266'"
       ]
      }
     ],
     "prompt_number": 61
    },
    {
     "cell_type": "code",
     "collapsed": false,
     "input": [
      "cd scripts/"
     ],
     "language": "python",
     "metadata": {},
     "outputs": [
      {
       "output_type": "stream",
       "stream": "stdout",
       "text": [
        "/Users/alexis/university/ift6266/scripts\n"
       ]
      }
     ],
     "prompt_number": 2
    },
    {
     "cell_type": "code",
     "collapsed": false,
     "input": [
      "import docs"
     ],
     "language": "python",
     "metadata": {},
     "outputs": [],
     "prompt_number": 3
    },
    {
     "cell_type": "code",
     "collapsed": false,
     "input": [
      "prompts = docs.get_prompts('/Users/alexis/university/ift6266/raw/TIMIT/DOC/PROMPTS.TXT')"
     ],
     "language": "python",
     "metadata": {},
     "outputs": [],
     "prompt_number": 4
    },
    {
     "cell_type": "code",
     "collapsed": false,
     "input": [
      "timit_dict = docs.get_timit_dictionnary('/Users/alexis/university/ift6266/raw/TIMIT/DOC/TIMITDIC.TXT')"
     ],
     "language": "python",
     "metadata": {},
     "outputs": [],
     "prompt_number": 5
    },
    {
     "cell_type": "code",
     "collapsed": false,
     "input": [
      "speakers_info = docs.get_speakers_info('/Users/alexis/university/ift6266/raw/TIMIT/DOC/SPKRINFO.TXT')"
     ],
     "language": "python",
     "metadata": {},
     "outputs": [],
     "prompt_number": 6
    },
    {
     "cell_type": "code",
     "collapsed": false,
     "input": [
      "spk_sentences = docs.get_speakers_sentences('/Users/alexis/university/ift6266/raw/TIMIT/DOC/SPKRSENT.TXT')"
     ],
     "language": "python",
     "metadata": {},
     "outputs": [],
     "prompt_number": 7
    },
    {
     "cell_type": "code",
     "collapsed": false,
     "input": [
      "df = spk_sentences.join(speakers_info)"
     ],
     "language": "python",
     "metadata": {},
     "outputs": [],
     "prompt_number": 27
    },
    {
     "cell_type": "code",
     "collapsed": false,
     "input": [
      "df.ix[0:5,'RecDate']"
     ],
     "language": "python",
     "metadata": {},
     "outputs": [
      {
       "metadata": {},
       "output_type": "pyout",
       "prompt_number": 36,
       "text": [
        "ABC0    03/03/86\n",
        "ABW0    04/21/86\n",
        "ADC0    02/25/86\n",
        "ADD0    01/28/86\n",
        "ADG0    02/12/86\n",
        "Name: RecDate, dtype: object"
       ]
      }
     ],
     "prompt_number": 36
    },
    {
     "cell_type": "code",
     "collapsed": false,
     "input": [
      "spk_sentences.SI.columns?"
     ],
     "language": "python",
     "metadata": {},
     "outputs": [],
     "prompt_number": 26
    },
    {
     "cell_type": "code",
     "collapsed": false,
     "input": [
      "spk_sentences.head()"
     ],
     "language": "python",
     "metadata": {},
     "outputs": [
      {
       "html": [
        "<div style=\"max-height:1000px;max-width:1500px;overflow:auto;\">\n",
        "<table border=\"1\" class=\"dataframe\">\n",
        "  <thead>\n",
        "    <tr>\n",
        "      <th></th>\n",
        "      <th colspan=\"2\" halign=\"left\">SA</th>\n",
        "      <th colspan=\"3\" halign=\"left\">SI</th>\n",
        "      <th colspan=\"7\" halign=\"left\">SX</th>\n",
        "    </tr>\n",
        "    <tr>\n",
        "      <th></th>\n",
        "      <th>0</th>\n",
        "      <th>1</th>\n",
        "      <th>7</th>\n",
        "      <th>8</th>\n",
        "      <th>9</th>\n",
        "      <th>1</th>\n",
        "      <th>2</th>\n",
        "      <th>3</th>\n",
        "      <th>4</th>\n",
        "      <th>5</th>\n",
        "      <th>6</th>\n",
        "      <th>7</th>\n",
        "    </tr>\n",
        "  </thead>\n",
        "  <tbody>\n",
        "    <tr>\n",
        "      <th>ABC0</th>\n",
        "      <td> sa1</td>\n",
        "      <td> sa2</td>\n",
        "      <td>  si781</td>\n",
        "      <td> si1620</td>\n",
        "      <td> si2041</td>\n",
        "      <td> sa2</td>\n",
        "      <td> sx331</td>\n",
        "      <td>  sx61</td>\n",
        "      <td> sx241</td>\n",
        "      <td> sx421</td>\n",
        "      <td> sx151</td>\n",
        "      <td>  si781</td>\n",
        "    </tr>\n",
        "    <tr>\n",
        "      <th>ABW0</th>\n",
        "      <td> sa1</td>\n",
        "      <td> sa2</td>\n",
        "      <td> si1230</td>\n",
        "      <td> si1664</td>\n",
        "      <td> si2294</td>\n",
        "      <td> sa2</td>\n",
        "      <td> sx134</td>\n",
        "      <td> sx314</td>\n",
        "      <td>  sx44</td>\n",
        "      <td> sx224</td>\n",
        "      <td> sx404</td>\n",
        "      <td> si1230</td>\n",
        "    </tr>\n",
        "    <tr>\n",
        "      <th>ADC0</th>\n",
        "      <td> sa1</td>\n",
        "      <td> sa2</td>\n",
        "      <td>  si737</td>\n",
        "      <td> si1367</td>\n",
        "      <td> si1997</td>\n",
        "      <td> sa2</td>\n",
        "      <td> sx287</td>\n",
        "      <td>  sx17</td>\n",
        "      <td> sx197</td>\n",
        "      <td> sx377</td>\n",
        "      <td> sx107</td>\n",
        "      <td>  si737</td>\n",
        "    </tr>\n",
        "    <tr>\n",
        "      <th>ADD0</th>\n",
        "      <td> sa1</td>\n",
        "      <td> sa2</td>\n",
        "      <td>  si538</td>\n",
        "      <td> si1295</td>\n",
        "      <td> si1798</td>\n",
        "      <td> sa2</td>\n",
        "      <td>  sx88</td>\n",
        "      <td> sx268</td>\n",
        "      <td> sx448</td>\n",
        "      <td> sx178</td>\n",
        "      <td> sx358</td>\n",
        "      <td>  si538</td>\n",
        "    </tr>\n",
        "    <tr>\n",
        "      <th>ADG0</th>\n",
        "      <td> sa1</td>\n",
        "      <td> sa2</td>\n",
        "      <td>  si649</td>\n",
        "      <td> si1279</td>\n",
        "      <td> si1909</td>\n",
        "      <td> sa2</td>\n",
        "      <td> sx199</td>\n",
        "      <td> sx379</td>\n",
        "      <td> sx109</td>\n",
        "      <td> sx289</td>\n",
        "      <td>  sx19</td>\n",
        "      <td>  si649</td>\n",
        "    </tr>\n",
        "  </tbody>\n",
        "</table>\n",
        "</div>"
       ],
       "metadata": {},
       "output_type": "pyout",
       "prompt_number": 24,
       "text": [
        "       SA           SI                   SX                              \\\n",
        "        0    1       7       8       9    1      2      3      4      5   \n",
        "ABC0  sa1  sa2   si781  si1620  si2041  sa2  sx331   sx61  sx241  sx421   \n",
        "ABW0  sa1  sa2  si1230  si1664  si2294  sa2  sx134  sx314   sx44  sx224   \n",
        "ADC0  sa1  sa2   si737  si1367  si1997  sa2  sx287   sx17  sx197  sx377   \n",
        "ADD0  sa1  sa2   si538  si1295  si1798  sa2   sx88  sx268  sx448  sx178   \n",
        "ADG0  sa1  sa2   si649  si1279  si1909  sa2  sx199  sx379  sx109  sx289   \n",
        "\n",
        "                     \n",
        "          6       7  \n",
        "ABC0  sx151   si781  \n",
        "ABW0  sx404  si1230  \n",
        "ADC0  sx107   si737  \n",
        "ADD0  sx358   si538  \n",
        "ADG0   sx19   si649  "
       ]
      }
     ],
     "prompt_number": 24
    },
    {
     "cell_type": "code",
     "collapsed": false,
     "input": [
      "d.SA.head()"
     ],
     "language": "python",
     "metadata": {},
     "outputs": [
      {
       "html": [
        "<div style=\"max-height:1000px;max-width:1500px;overflow:auto;\">\n",
        "<table border=\"1\" class=\"dataframe\">\n",
        "  <thead>\n",
        "    <tr style=\"text-align: right;\">\n",
        "      <th></th>\n",
        "      <th>0</th>\n",
        "      <th>1</th>\n",
        "    </tr>\n",
        "  </thead>\n",
        "  <tbody>\n",
        "    <tr>\n",
        "      <th>ABC0</th>\n",
        "      <td> sa1</td>\n",
        "      <td> sa2</td>\n",
        "    </tr>\n",
        "    <tr>\n",
        "      <th>ABW0</th>\n",
        "      <td> sa1</td>\n",
        "      <td> sa2</td>\n",
        "    </tr>\n",
        "    <tr>\n",
        "      <th>ADC0</th>\n",
        "      <td> sa1</td>\n",
        "      <td> sa2</td>\n",
        "    </tr>\n",
        "    <tr>\n",
        "      <th>ADD0</th>\n",
        "      <td> sa1</td>\n",
        "      <td> sa2</td>\n",
        "    </tr>\n",
        "    <tr>\n",
        "      <th>ADG0</th>\n",
        "      <td> sa1</td>\n",
        "      <td> sa2</td>\n",
        "    </tr>\n",
        "  </tbody>\n",
        "</table>\n",
        "</div>"
       ],
       "metadata": {},
       "output_type": "pyout",
       "prompt_number": 33,
       "text": [
        "        0    1\n",
        "ABC0  sa1  sa2\n",
        "ABW0  sa1  sa2\n",
        "ADC0  sa1  sa2\n",
        "ADD0  sa1  sa2\n",
        "ADG0  sa1  sa2"
       ]
      }
     ],
     "prompt_number": 33
    },
    {
     "cell_type": "code",
     "collapsed": false,
     "input": [
      "a = \"asdfasdf\""
     ],
     "language": "python",
     "metadata": {},
     "outputs": [],
     "prompt_number": 8
    },
    {
     "cell_type": "code",
     "collapsed": false,
     "input": [
      "DataFrame?"
     ],
     "language": "python",
     "metadata": {},
     "outputs": [],
     "prompt_number": 37
    },
    {
     "cell_type": "code",
     "collapsed": false,
     "input": [],
     "language": "python",
     "metadata": {},
     "outputs": []
    }
   ],
   "metadata": {}
  }
 ]
}